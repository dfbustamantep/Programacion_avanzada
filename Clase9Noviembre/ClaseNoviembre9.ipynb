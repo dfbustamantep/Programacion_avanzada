{
 "cells": [
  {
   "cell_type": "markdown",
   "metadata": {},
   "source": [
    "Clase progrmacion avanzada Noviembre 9\n"
   ]
  },
  {
   "cell_type": "code",
   "execution_count": 4,
   "metadata": {},
   "outputs": [
    {
     "name": "stdout",
     "output_type": "stream",
     "text": [
      "1-Calcular daimetro\n",
      "2-Calcular perimetro\n",
      "3-Calcular area\n",
      "El diametro es  10.0\n"
     ]
    },
    {
     "data": {
      "text/plain": [
       "'1'"
      ]
     },
     "execution_count": 4,
     "metadata": {},
     "output_type": "execute_result"
    }
   ],
   "source": [
    "from math import pi\n",
    "\n",
    "radio = float(input(\"Digite radio\"))\n",
    "print(\"1-Calcular daimetro\")\n",
    "print(\"2-Calcular perimetro\")\n",
    "print(\"3-Calcular area\")\n",
    "\n",
    "opcion = input(\"Digite una opcion\")\n",
    "\n",
    "if opcion == '1':\n",
    "    diametro = radio * 2\n",
    "    print(\"El diametro es \",diametro)\n",
    "input(\"Salir\")"
   ]
  },
  {
   "cell_type": "markdown",
   "metadata": {},
   "source": [
    "Ejemplo pandas"
   ]
  },
  {
   "cell_type": "code",
   "execution_count": 10,
   "metadata": {},
   "outputs": [
    {
     "name": "stdout",
     "output_type": "stream",
     "text": [
      "Media de las notas de la clase: 8.06\n"
     ]
    },
    {
     "data": {
      "image/png": "[encoded data removed]",
      "text/plain": [
       "<Figure size 640x480 with 1 Axes>"
      ]
     },
     "metadata": {},
     "output_type": "display_data"
    }
   ],
   "source": [
    "# Importamos las bibliotecas necesarias\n",
    "import pandas as pd\n",
    "from pandas import Series\n",
    "import matplotlib.pyplot as plt\n",
    "\n",
    "# Definimos una Serie simple\n",
    "serie_simple = Series([17, 5, 7, 5, 67, 84, 29, 52, 12, 53, 1, 10])\n",
    "\n",
    "# Definimos otra Serie con índice personalizado para las notas de la clase\n",
    "notas_clase = Series([5.7, 8.5, 9.1, 5.5, 8.2, 9.0, 10, 7.0, 7.7, 9.9],\n",
    "                     index=[\"Juan\", \"Jenifer\", \"David\", \"Pablo\", \"Armando\", \"Magdalena\", \"Francesca\", \"Rosmery\", \"Vicente\", \"Martin\"])\n",
    "\n",
    "# Calculamos la media de la Serie 'notas_clase'\n",
    "media_notas = notas_clase.mean()\n",
    "\n",
    "# Imprimimos el resultado\n",
    "print(\"Media de las notas de la clase:\", media_notas)\n",
    "\n",
    "# Creamos una Serie llamada PIB_Macondo con datos de PIB y un índice de años\n",
    "PIB_Macondo = Series([221, 242, 251, 294, 285, 302, 321, 385],\n",
    "                    index=['1985', '1990', '1995', '2000', '2005', '2010', '2015', '2020'])\n",
    "\n",
    "# Simplificamos el nombre de la Serie\n",
    "PIB = PIB_Macondo\n",
    "\n",
    "# Graficamos la Serie PIB usando un gráfico de barras\n",
    "fig, ax = plt.subplots()  # Creamos un plano cartesiano\n",
    "ax.bar(PIB.index, PIB.values)  # Usamos el índice y los valores de la Serie PIB\n",
    "ax.set_ylabel('PIB de Macondo en Miles de reales')  # Añadimos etiquetas al eje y\n",
    "\n",
    "# Mostramos el gráfico\n",
    "plt.show()\n"
   ]
  },
  {
   "cell_type": "markdown",
   "metadata": {},
   "source": [
    "Scraping web con python"
   ]
  },
  {
   "cell_type": "code",
   "execution_count": 6,
   "metadata": {},
   "outputs": [
    {
     "name": "stdout",
     "output_type": "stream",
     "text": [
      "\n",
      "Origin ->  Word Originlate 19th cent.: variant of earlier hollo; related to holla.\n",
      "\n",
      "- used as a greeting when you meet somebody, in an email, when you answer the phone or when you want to attract somebody’s attention\n",
      "\t- Hello John, how are you?\n",
      "\t- Hello, is there anybody there?\n",
      "\t- Say hello to Liz for me.\n",
      "\t- They exchanged hellos (= said hello to each other) and forced smiles.\n",
      "\t- ‘Hello, Mark.’ ‘Oh, hi, Kathy! How are you?’\n",
      "- used to show that you are surprised by something\n",
      "\t- Hello, hello, what's going on here?\n",
      "- used to show that you think somebody has said something stupid or is not paying attention\n",
      "\t- Hello? You didn't really mean that, did you?\n",
      "\t- I'm like, ‘Hello! Did you even listen?’\n"
     ]
    }
   ],
   "source": [
    "# Importamos las bibliotecas necesarias\n",
    "import requests\n",
    "from datetime import datetime\n",
    "from bs4 import BeautifulSoup\n",
    "\n",
    "# Definimos una función para mostrar la información de origen de la palabra\n",
    "def show_origin(soup):\n",
    "    try:\n",
    "        origin = soup.find('span', {'unbox': 'wordorigin'})\n",
    "        print('\\nOrigin -> ', origin.text)\n",
    "    except AttributeError:\n",
    "        pass\n",
    "\n",
    "# Definimos una función para mostrar las definiciones y ejemplos\n",
    "def show_definitions(soup):\n",
    "    print()\n",
    "    senseList = []\n",
    "    senses = soup.find_all('li', class_='sense')\n",
    "    for s in senses:\n",
    "        definition = s.find('span', class_='def').text\n",
    "        print(\"-\", definition)\n",
    "\n",
    "        # Ejemplos\n",
    "        examples = s.find_all('ul', class_='examples')\n",
    "        for e in examples:\n",
    "            for ex in e.find_all('li'):\n",
    "                print('\\t-', ex.text)\n",
    "\n",
    "# Palabra que se va a buscar\n",
    "word_to_search = 'hello'\n",
    "# URL de la página a hacer web scraping\n",
    "scrape_url = 'https://www.oxfordlearnersdictionaries.com/definition/english/' + word_to_search\n",
    "\n",
    "# Encabezados para la solicitud web\n",
    "headers = {\"User-Agent\": \"\"}\n",
    "# Realizamos la solicitud web\n",
    "web_response = requests.get(scrape_url, headers=headers)\n",
    "\n",
    "# Verificamos si la solicitud fue exitosa (código de estado 200)\n",
    "if web_response.status_code == 200:\n",
    "    # Creamos un objeto BeautifulSoup para analizar el HTML de la página\n",
    "    soup = BeautifulSoup(web_response.text, 'html.parser')\n",
    "\n",
    "    try:\n",
    "        # Mostramos la información de origen y las definiciones\n",
    "        show_origin(soup)\n",
    "        show_definitions(soup)\n",
    "    except AttributeError:\n",
    "        print('Palabra no encontrada!!')\n",
    "else:\n",
    "    print('Fallo al obtener la respuesta...')\n"
   ]
  }
 ],
 "metadata": {
  "kernelspec": {
   "display_name": "Python 3",
   "language": "python",
   "name": "python3"
  },
  "language_info": {
   "codemirror_mode": {
    "name": "ipython",
    "version": 3
   },
   "file_extension": ".py",
   "mimetype": "text/x-python",
   "name": "python",
   "nbconvert_exporter": "python",
   "pygments_lexer": "ipython3",
   "version": "3.12.0"
  }
 },
 "nbformat": 4,
 "nbformat_minor": 2
}
